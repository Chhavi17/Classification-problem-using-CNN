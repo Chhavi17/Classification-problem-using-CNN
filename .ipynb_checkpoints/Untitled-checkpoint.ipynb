{
 "cells": [
  {
   "cell_type": "code",
   "execution_count": 3,
   "metadata": {},
   "outputs": [
    {
     "name": "stdout",
     "output_type": "stream",
     "text": [
      "Collecting torch\n",
      "\u001b[31m  Could not find a version that satisfies the requirement torch (from versions: )\u001b[0m\n",
      "\u001b[31mNo matching distribution found for torch\u001b[0m\n"
     ]
    }
   ],
   "source": [
    "import os\n",
    "import numpy as np\n",
    "from PIL import Image\n",
    "from cv2 import resize\n",
    "\n",
    "from vgg16_places_365 import VGG16_Places365\n",
    "\n",
    "TEST_IMAGE_URL = '../../Dataset/Test/bookstore/bookstore_14_17_altavista.jpg'\n",
    "\n",
    "image = Image.open(TEST_IMAGE_URL)\n",
    "image = np.array(image, dtype=np.uint8)\n",
    "image = resize(image, (224, 224))\n",
    "image = np.expand_dims(image, 0)\n",
    "\n",
    "model = VGG16_Places365(weights='places')\n",
    "predictions_to_return = 5\n",
    "preds = model.predict(image)[0]\n",
    "top_preds = np.argsort(preds)[::-1][0:predictions_to_return]\n",
    "\n",
    "xx = []       \n",
    "for features,label in testing_data:\n",
    "    xx.append(features)\n",
    "    yy.append(label)\n",
    "    \n",
    "XX = np.array(xx).reshape(-1,224,224,3)\n",
    "XX = XX.astype('float32')\n",
    "XX /= 255\n",
    "print(XX.shape)\n",
    "print(XX.shape[0], 'test_samples')\n",
    "p = model.predict(XX[0:1])\n",
    "\n"
   ]
  },
  {
   "cell_type": "code",
   "execution_count": 2,
   "metadata": {},
   "outputs": [
    {
     "ename": "ModuleNotFoundError",
     "evalue": "No module named 'torch'",
     "output_type": "error",
     "traceback": [
      "\u001b[0;31m---------------------------------------------------------------------------\u001b[0m",
      "\u001b[0;31mModuleNotFoundError\u001b[0m                       Traceback (most recent call last)",
      "\u001b[0;32m<ipython-input-2-fa6bff2bc941>\u001b[0m in \u001b[0;36m<module>\u001b[0;34m()\u001b[0m\n\u001b[0;32m----> 1\u001b[0;31m \u001b[0;32mimport\u001b[0m \u001b[0mtorch\u001b[0m\u001b[0;34m\u001b[0m\u001b[0m\n\u001b[0m\u001b[1;32m      2\u001b[0m \u001b[0;32mimport\u001b[0m \u001b[0mtorch\u001b[0m\u001b[0;34m.\u001b[0m\u001b[0mnn\u001b[0m \u001b[0;32mas\u001b[0m \u001b[0mnn\u001b[0m\u001b[0;34m\u001b[0m\u001b[0m\n\u001b[1;32m      3\u001b[0m \u001b[0;32mfrom\u001b[0m \u001b[0mtouch\u001b[0m\u001b[0;34m.\u001b[0m\u001b[0mautograd\u001b[0m \u001b[0;32mimport\u001b[0m \u001b[0mVariable\u001b[0m\u001b[0;34m\u001b[0m\u001b[0m\n\u001b[1;32m      4\u001b[0m \u001b[0;32mimport\u001b[0m \u001b[0mtorch\u001b[0m\u001b[0;34m.\u001b[0m\u001b[0mnn\u001b[0m\u001b[0;34m.\u001b[0m\u001b[0mfunctional\u001b[0m \u001b[0;32mas\u001b[0m \u001b[0mF\u001b[0m\u001b[0;34m\u001b[0m\u001b[0m\n\u001b[1;32m      5\u001b[0m \u001b[0;32mimport\u001b[0m \u001b[0mnumpy\u001b[0m \u001b[0;32mas\u001b[0m \u001b[0mnp\u001b[0m\u001b[0;34m\u001b[0m\u001b[0m\n",
      "\u001b[0;31mModuleNotFoundError\u001b[0m: No module named 'torch'"
     ]
    }
   ],
   "source": [
    "file_name = 'categories_places365.txt'\n",
    "if not os.access(file_name, os.W_OK):\n",
    "    synset_url = 'https://raw.githubusercontent.com/csailvision/places365/master/categories_places365.txt'\n",
    "    os.system('wget ' + synset_url)\n",
    "classes = list()\n",
    "with open(file_name) as class_file:\n",
    "    for line in class_file:\n",
    "        classes.append(line.strip().split(' ')[0][3:])\n",
    "classes = tuple(classes)\n",
    "\n",
    "print('--SCENE CATEGORIES:')\n",
    "print(classes[p])\n",
    "# output the prediction\n",
    "for i in range(0, 5):\n",
    "    print(classes[top_preds[i]])\n",
    "\n",
    "# --PREDICTED SCENE CATEGORIES:\n",
    "# cafeteria\n",
    "# food_court\n",
    "# restaurant_patio\n",
    "# banquet_hall\n",
    "# restaurant"
   ]
  },
  {
   "cell_type": "code",
   "execution_count": null,
   "metadata": {
    "collapsed": true
   },
   "outputs": [],
   "source": []
  }
 ],
 "metadata": {
  "kernelspec": {
   "display_name": "Python 3",
   "language": "python",
   "name": "python3"
  },
  "language_info": {
   "codemirror_mode": {
    "name": "ipython",
    "version": 3
   },
   "file_extension": ".py",
   "mimetype": "text/x-python",
   "name": "python",
   "nbconvert_exporter": "python",
   "pygments_lexer": "ipython3",
   "version": "3.6.3"
  }
 },
 "nbformat": 4,
 "nbformat_minor": 2
}
